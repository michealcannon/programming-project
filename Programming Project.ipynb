{
 "cells": [
  {
   "cell_type": "markdown",
   "metadata": {},
   "source": [
    "# Score in a standardised test of attainment"
   ]
  },
  {
   "cell_type": "code",
   "execution_count": 6,
   "metadata": {},
   "outputs": [
    {
     "data": {
      "text/html": [
       "<div>\n",
       "<style scoped>\n",
       "    .dataframe tbody tr th:only-of-type {\n",
       "        vertical-align: middle;\n",
       "    }\n",
       "\n",
       "    .dataframe tbody tr th {\n",
       "        vertical-align: top;\n",
       "    }\n",
       "\n",
       "    .dataframe thead th {\n",
       "        text-align: right;\n",
       "    }\n",
       "</style>\n",
       "<table border=\"1\" class=\"dataframe\">\n",
       "  <thead>\n",
       "    <tr style=\"text-align: right;\">\n",
       "      <th></th>\n",
       "      <th>score</th>\n",
       "    </tr>\n",
       "  </thead>\n",
       "  <tbody>\n",
       "    <tr>\n",
       "      <th>0</th>\n",
       "      <td>124.203105</td>\n",
       "    </tr>\n",
       "    <tr>\n",
       "      <th>1</th>\n",
       "      <td>105.535092</td>\n",
       "    </tr>\n",
       "    <tr>\n",
       "      <th>2</th>\n",
       "      <td>81.237864</td>\n",
       "    </tr>\n",
       "    <tr>\n",
       "      <th>3</th>\n",
       "      <td>112.851935</td>\n",
       "    </tr>\n",
       "    <tr>\n",
       "      <th>4</th>\n",
       "      <td>84.505157</td>\n",
       "    </tr>\n",
       "  </tbody>\n",
       "</table>\n",
       "</div>"
      ],
      "text/plain": [
       "        score\n",
       "0  124.203105\n",
       "1  105.535092\n",
       "2   81.237864\n",
       "3  112.851935\n",
       "4   84.505157"
      ]
     },
     "execution_count": 6,
     "metadata": {},
     "output_type": "execute_result"
    },
    {
     "data": {
      "image/png": "[encoded data removed]",
      "text/plain": [
       "<Figure size 432x288 with 1 Axes>"
      ]
     },
     "metadata": {
      "needs_background": "light"
     },
     "output_type": "display_data"
    }
   ],
   "source": [
    "import numpy as np # import numpy package as np\n",
    "import matplotlib.pyplot as plt # import pyplot package for plotting from matplotlib as plt\n",
    "import pandas as pd # import pandas package for data manipulation as pd\n",
    "mu, sigma = 95,15 # mean and standard deviation for a normal distribution\n",
    "s = np.random.normal(mu, sigma, 200) # # draw 200 samples from normal distribution with mean = 95, standard deviation = 15\n",
    "# assign to variable s\n",
    "df = pd.DataFrame(data=s, columns = [\"score\"]) # create one dimensional dataframe using data in s \n",
    "# with column heading \"score\"; assign to variable df\n",
    "plt.hist(s) # show histogram of s\n",
    "df.head() # prinf girst 5 values of df\n"
   ]
  },
  {
   "cell_type": "markdown",
   "metadata": {},
   "source": [
    "# Records of attendance\n",
    "\n",
    "A [report on attendance](https://www.tusla.ie/uploads/content/School_Attendance_Data_2015-16.pdf) in DEIS schools was provide to Túsla, the child and family agency, by the Education Research Centre. The mean percentage of days lost by pupils in DEIS band 1 primary schools in the school year 2015/2016 was 8.1% with a standard deviation of 2.76 (from 174 schools sampled).\n"
   ]
  },
  {
   "cell_type": "code",
   "execution_count": 3,
   "metadata": {},
   "outputs": [
    {
     "data": {
      "text/plain": [
       "array([ 77.79966834,  99.88015262, 108.74093306,  97.83479988,\n",
       "        74.67201877, 108.36124197,  94.98955855,  80.68576619,\n",
       "       102.6658687 ,  83.3866502 , 114.76083058,  86.68181935,\n",
       "        86.43909847,  97.99402097,  91.84360297,  98.05636259,\n",
       "        98.1112587 , 101.3796221 ,  82.50575352, 103.21582795,\n",
       "        96.00894575, 103.80042693, 101.72377969,  90.36120761,\n",
       "       108.82508643,  78.1069544 ,  79.48882694,  82.56328298,\n",
       "        82.40724346,  77.63040008,  98.04239479, 111.1913276 ,\n",
       "        83.18881212,  77.19654668, 105.06966921, 104.54349566,\n",
       "       122.14392019,  82.86799445, 107.44843137,  89.51226372,\n",
       "        88.09097502, 134.84773556, 113.64376909, 103.53430651,\n",
       "        71.80475985, 134.17912886,  86.92002129,  88.4690986 ,\n",
       "       103.60786149,  94.02332147,  99.14575505, 117.99752307,\n",
       "        94.42778883,  70.12971412,  87.04659603,  83.5976788 ,\n",
       "        83.71731071,  74.25127177,  96.60329036,  97.26201474,\n",
       "       132.20063586,  91.19016902, 107.07807468,  86.5528821 ,\n",
       "        84.02608981,  95.80131161, 107.33725701,  97.15595143,\n",
       "       109.09634151, 113.63252454, 111.58311692,  93.15968617,\n",
       "       101.51975728, 106.01307622,  81.50943957,  95.31480384,\n",
       "        73.13343496, 110.47878203,  92.12445161,  82.71316213,\n",
       "        66.99424892,  83.57901619,  99.64716142, 108.04866697,\n",
       "       103.92853589, 104.30967388,  76.16153483,  85.31299721,\n",
       "        89.77499343, 108.77977276,  94.90284791,  99.68502994,\n",
       "       108.76287881, 100.04636516,  97.99952371,  90.33115576,\n",
       "        91.62479483, 113.96526317,  84.25822627, 104.26903163,\n",
       "        95.89050307,  99.35020637,  67.3372861 ,  90.4168519 ,\n",
       "        95.51157527,  88.89676355,  85.07357222,  98.64033678,\n",
       "        95.26986235,  95.7555384 ,  96.92530451,  98.94998582,\n",
       "        75.17279391,  99.07416617, 108.39053037,  82.43879439,\n",
       "        54.65697389, 130.32213628,  66.12140183,  75.83995635,\n",
       "       111.00621303,  93.43759906, 120.48422567, 106.65993362,\n",
       "        87.89554534,  82.93888907, 124.87192618,  68.52482774,\n",
       "       129.13865439,  88.16850723,  83.67512637,  93.4610704 ,\n",
       "        93.72579139,  60.81242934,  89.9059429 ,  80.11737253,\n",
       "        76.09680034,  93.68833159,  85.11002707,  92.57033918,\n",
       "        84.81343811,  95.94374446,  74.67009445,  99.74478278,\n",
       "        98.65607783,  72.16032873,  74.65801638, 109.35731867,\n",
       "        64.34391702,  82.44423094, 100.31966603,  89.31165089,\n",
       "        99.4229482 ,  94.55700851, 113.84005281,  57.09908654,\n",
       "        99.78851023,  86.82477809,  90.22966937,  79.19551937,\n",
       "        78.25891651, 111.50649882, 103.1784992 ,  89.1903484 ,\n",
       "       114.87846218, 112.97625363, 105.33782919, 120.68899874,\n",
       "       105.21746077, 109.84015052, 112.63092136,  82.00204541,\n",
       "        86.32103645,  95.32619063, 123.96473408,  94.12783303,\n",
       "        77.26773363, 101.20312471,  98.54555764,  90.52830236,\n",
       "        87.00918496,  91.63623029,  97.16150583, 105.5425196 ,\n",
       "        74.67276133,  95.07024993, 123.19907772, 105.85684161,\n",
       "        64.94277003, 120.9114377 ,  81.18977211,  89.32065345,\n",
       "       101.71192592,  68.4218125 ,  85.62512584,  78.8585493 ,\n",
       "        94.43086372,  89.04932814,  95.83787003,  87.77497261])"
      ]
     },
     "execution_count": 3,
     "metadata": {},
     "output_type": "execute_result"
    }
   ],
   "source": [
    "s"
   ]
  },
  {
   "cell_type": "markdown",
   "metadata": {},
   "source": [
    "# Birth Month\n",
    "\n",
    "In the UK, chldren must start formal schooling in the Septenber after they turn 4 years old. [Research](https://www.ifs.org.uk/bns/bn122.pdf) by the Institute of Fiscal Studies for the Nuffield Foundation investigated the impact of date of birth on educational outcomes in England. They foind that children born in August scored, on average, over half a standard deviation lower than chldren born in September on standardised tests of academic attainment at age 7."
   ]
  },
  {
   "cell_type": "markdown",
   "metadata": {},
   "source": [
    "I wanted to create a column in my datframe that simulated birth month of the students. I used integers 1 - 12 as dummy variables to represent the months January - December"
   ]
  },
  {
   "cell_type": "code",
   "execution_count": 9,
   "metadata": {},
   "outputs": [
    {
     "data": {
      "text/html": [
       "<div>\n",
       "<style scoped>\n",
       "    .dataframe tbody tr th:only-of-type {\n",
       "        vertical-align: middle;\n",
       "    }\n",
       "\n",
       "    .dataframe tbody tr th {\n",
       "        vertical-align: top;\n",
       "    }\n",
       "\n",
       "    .dataframe thead th {\n",
       "        text-align: right;\n",
       "    }\n",
       "</style>\n",
       "<table border=\"1\" class=\"dataframe\">\n",
       "  <thead>\n",
       "    <tr style=\"text-align: right;\">\n",
       "      <th></th>\n",
       "      <th>score</th>\n",
       "      <th>Birth_month</th>\n",
       "    </tr>\n",
       "  </thead>\n",
       "  <tbody>\n",
       "    <tr>\n",
       "      <th>0</th>\n",
       "      <td>124.203105</td>\n",
       "      <td>9</td>\n",
       "    </tr>\n",
       "    <tr>\n",
       "      <th>1</th>\n",
       "      <td>105.535092</td>\n",
       "      <td>12</td>\n",
       "    </tr>\n",
       "    <tr>\n",
       "      <th>2</th>\n",
       "      <td>81.237864</td>\n",
       "      <td>2</td>\n",
       "    </tr>\n",
       "    <tr>\n",
       "      <th>3</th>\n",
       "      <td>112.851935</td>\n",
       "      <td>3</td>\n",
       "    </tr>\n",
       "    <tr>\n",
       "      <th>4</th>\n",
       "      <td>84.505157</td>\n",
       "      <td>1</td>\n",
       "    </tr>\n",
       "  </tbody>\n",
       "</table>\n",
       "</div>"
      ],
      "text/plain": [
       "        score  Birth_month\n",
       "0  124.203105            9\n",
       "1  105.535092           12\n",
       "2   81.237864            2\n",
       "3  112.851935            3\n",
       "4   84.505157            1"
      ]
     },
     "execution_count": 9,
     "metadata": {},
     "output_type": "execute_result"
    },
    {
     "data": {
      "image/png": "[encoded data removed]",
      "text/plain": [
       "<Figure size 432x288 with 1 Axes>"
      ]
     },
     "metadata": {
      "needs_background": "light"
     },
     "output_type": "display_data"
    }
   ],
   "source": [
    "birth_month = np.random.randint(1,13,200)  # draw 200 integers from uniform distribution with range 1 -12(inclusive)\n",
    "# assign to variable birth_month\n",
    "df[\"Birth_month\"] = birth_month # add variable \"birth_month\" to dataframe \"df\" under column heading \"Birth_month\"\n",
    "plt.hist(birth_month) # show histogram of birth_month\n",
    "df.head() # display first 5 rows of dataframe"
   ]
  },
  {
   "cell_type": "code",
   "execution_count": null,
   "metadata": {},
   "outputs": [],
   "source": []
  }
 ],
 "metadata": {
  "kernelspec": {
   "display_name": "Python 3",
   "language": "python",
   "name": "python3"
  },
  "language_info": {
   "codemirror_mode": {
    "name": "ipython",
    "version": 3
   },
   "file_extension": ".py",
   "mimetype": "text/x-python",
   "name": "python",
   "nbconvert_exporter": "python",
   "pygments_lexer": "ipython3",
   "version": "3.7.1"
  }
 },
 "nbformat": 4,
 "nbformat_minor": 2
}
