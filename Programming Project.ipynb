{
 "cells": [
  {
   "cell_type": "markdown",
   "metadata": {},
   "source": [
    "# Score in a standardised test of attainment"
   ]
  },
  {
   "cell_type": "code",
   "execution_count": 11,
   "metadata": {},
   "outputs": [
    {
     "data": {
      "text/html": [
       "<div>\n",
       "<style scoped>\n",
       "    .dataframe tbody tr th:only-of-type {\n",
       "        vertical-align: middle;\n",
       "    }\n",
       "\n",
       "    .dataframe tbody tr th {\n",
       "        vertical-align: top;\n",
       "    }\n",
       "\n",
       "    .dataframe thead th {\n",
       "        text-align: right;\n",
       "    }\n",
       "</style>\n",
       "<table border=\"1\" class=\"dataframe\">\n",
       "  <thead>\n",
       "    <tr style=\"text-align: right;\">\n",
       "      <th></th>\n",
       "      <th>score</th>\n",
       "    </tr>\n",
       "  </thead>\n",
       "  <tbody>\n",
       "    <tr>\n",
       "      <th>0</th>\n",
       "      <td>97.266930</td>\n",
       "    </tr>\n",
       "    <tr>\n",
       "      <th>1</th>\n",
       "      <td>108.830825</td>\n",
       "    </tr>\n",
       "    <tr>\n",
       "      <th>2</th>\n",
       "      <td>102.121526</td>\n",
       "    </tr>\n",
       "    <tr>\n",
       "      <th>3</th>\n",
       "      <td>99.352372</td>\n",
       "    </tr>\n",
       "    <tr>\n",
       "      <th>4</th>\n",
       "      <td>99.732043</td>\n",
       "    </tr>\n",
       "  </tbody>\n",
       "</table>\n",
       "</div>"
      ],
      "text/plain": [
       "        score\n",
       "0   97.266930\n",
       "1  108.830825\n",
       "2  102.121526\n",
       "3   99.352372\n",
       "4   99.732043"
      ]
     },
     "execution_count": 11,
     "metadata": {},
     "output_type": "execute_result"
    },
    {
     "data": {
      "image/png": "[encoded data removed]",
      "text/plain": [
       "<Figure size 432x288 with 1 Axes>"
      ]
     },
     "metadata": {
      "needs_background": "light"
     },
     "output_type": "display_data"
    }
   ],
   "source": [
    "import numpy as np # import numpy package as np\n",
    "import matplotlib.pyplot as plt # import pyplot package for plotting from matplotlib as plt\n",
    "import pandas as pd # import pandas package for data manipulation as pd\n",
    "mu, sigma = 95,15 # mean and standard deviation for a normal distribution\n",
    "s = np.random.normal(mu, sigma, 200) # # draw 200 samples from normal distribution with mean = 95, standard deviation = 15\n",
    "# assign to variable s\n",
    "df = pd.DataFrame(data=s, columns = [\"score\"]) # create one dimensional dataframe using data in s \n",
    "# with column heading \"score\"; assign to variable df\n",
    "plt.hist(s) # show histogram of s\n",
    "df.head() # prinf girst 5 values of df\n"
   ]
  },
  {
   "cell_type": "markdown",
   "metadata": {},
   "source": [
    "# Records of attendance\n",
    "\n",
    "A [report on attendance](https://www.tusla.ie/uploads/content/School_Attendance_Data_2015-16.pdf) in DEIS schools was provide to Túsla, the child and family agency, by the Education Research Centre. The mean percentage of days lost by pupils in DEIS band 1 primary schools in the school year 2015/2016 was 8.1% with a standard deviation of 2.76 (from 174 schools sampled).\n"
   ]
  },
  {
   "cell_type": "code",
   "execution_count": 10,
   "metadata": {},
   "outputs": [
    {
     "data": {
      "text/plain": [
       "array([ 5,  8,  6,  9,  4,  2,  7,  4, 10,  3,  7, 11,  3, 10, 10,  9,  9,\n",
       "        2,  6,  5,  2,  3,  9,  3, 11,  4,  8,  8,  2,  2,  6,  5, 12,  5,\n",
       "        1,  4, 10, 11,  9,  6,  2,  6, 11,  4,  8,  1,  5,  7, 10, 10, 10,\n",
       "       11,  8, 11,  7, 11,  6,  1,  1,  5,  3, 10, 12, 10,  7, 10, 11, 12,\n",
       "        4,  6,  9,  4,  3, 12,  2, 10,  2,  8,  1,  7,  3,  6,  8,  6,  7,\n",
       "        2,  4,  6,  6, 10,  1, 10,  3, 12, 12, 10,  4, 10, 11,  4,  4,  5,\n",
       "        3, 10, 11,  3,  8,  3,  5,  6,  4, 10,  7,  5,  8, 10,  9, 12,  4,\n",
       "       12,  6,  6, 12, 12,  1,  7,  7,  8,  8, 11, 11,  9,  7,  4, 10,  1,\n",
       "        4,  7, 10,  9,  9, 11,  4,  2,  9, 10, 11,  6, 10,  3, 11,  8,  6,\n",
       "        9,  5,  6,  3,  4, 11,  4,  4,  3, 11,  7,  2,  3,  2,  5,  8, 12,\n",
       "       12,  2,  5, 10,  9, 12,  5,  1,  6,  7,  6,  9,  5, 11,  1,  6, 12,\n",
       "        5,  5,  4,  1,  1, 10,  6,  9, 11,  3,  7, 12,  6])"
      ]
     },
     "execution_count": 10,
     "metadata": {},
     "output_type": "execute_result"
    }
   ],
   "source": [
    "s"
   ]
  },
  {
   "cell_type": "markdown",
   "metadata": {},
   "source": [
    "# Birth Month\n",
    "\n",
    "In the UK, chldren must start formal schooling in the Septenber after they turn 4 years old. [Research](https://www.ifs.org.uk/bns/bn122.pdf) by the Institute of Fiscal Studies for the Nuffield Foundation investigated the impact of date of birth on educational outcomes in England. They foind that children born in August scored, on average, over half a standard deviation lower than chldren born in September on standardised tests of academic attainment at age 7."
   ]
  },
  {
   "cell_type": "markdown",
   "metadata": {},
   "source": [
    "I wanted to create a column in my datframe that simulated birth month of the students. I used integers 1 - 12 as dummy variables to represent the months January - December"
   ]
  },
  {
   "cell_type": "code",
   "execution_count": 15,
   "metadata": {},
   "outputs": [
    {
     "data": {
      "text/html": [
       "<div>\n",
       "<style scoped>\n",
       "    .dataframe tbody tr th:only-of-type {\n",
       "        vertical-align: middle;\n",
       "    }\n",
       "\n",
       "    .dataframe tbody tr th {\n",
       "        vertical-align: top;\n",
       "    }\n",
       "\n",
       "    .dataframe thead th {\n",
       "        text-align: right;\n",
       "    }\n",
       "</style>\n",
       "<table border=\"1\" class=\"dataframe\">\n",
       "  <thead>\n",
       "    <tr style=\"text-align: right;\">\n",
       "      <th></th>\n",
       "      <th>score</th>\n",
       "      <th>Birth_month</th>\n",
       "    </tr>\n",
       "  </thead>\n",
       "  <tbody>\n",
       "    <tr>\n",
       "      <th>0</th>\n",
       "      <td>97.266930</td>\n",
       "      <td>12</td>\n",
       "    </tr>\n",
       "    <tr>\n",
       "      <th>1</th>\n",
       "      <td>108.830825</td>\n",
       "      <td>2</td>\n",
       "    </tr>\n",
       "    <tr>\n",
       "      <th>2</th>\n",
       "      <td>102.121526</td>\n",
       "      <td>2</td>\n",
       "    </tr>\n",
       "    <tr>\n",
       "      <th>3</th>\n",
       "      <td>99.352372</td>\n",
       "      <td>2</td>\n",
       "    </tr>\n",
       "    <tr>\n",
       "      <th>4</th>\n",
       "      <td>99.732043</td>\n",
       "      <td>2</td>\n",
       "    </tr>\n",
       "  </tbody>\n",
       "</table>\n",
       "</div>"
      ],
      "text/plain": [
       "        score  Birth_month\n",
       "0   97.266930           12\n",
       "1  108.830825            2\n",
       "2  102.121526            2\n",
       "3   99.352372            2\n",
       "4   99.732043            2"
      ]
     },
     "execution_count": 15,
     "metadata": {},
     "output_type": "execute_result"
    }
   ],
   "source": [
    "birth_month = np.random.randint(1,13,200)  # draw 200 integers from uniform distribution with range 1 -12(inclusive)\n",
    "# assign to variable birth_month\n",
    "df[\"Birth_month\"] = birth_month # add variable \"birth_month\" to dataframe \"df\" under column heading \"Birth_month\"\n",
    "df.head() # display first 5 rows of dataframe"
   ]
  },
  {
   "cell_type": "code",
   "execution_count": null,
   "metadata": {},
   "outputs": [],
   "source": []
  }
 ],
 "metadata": {
  "kernelspec": {
   "display_name": "Python 3",
   "language": "python",
   "name": "python3"
  },
  "language_info": {
   "codemirror_mode": {
    "name": "ipython",
    "version": 3
   },
   "file_extension": ".py",
   "mimetype": "text/x-python",
   "name": "python",
   "nbconvert_exporter": "python",
   "pygments_lexer": "ipython3",
   "version": "3.7.1"
  }
 },
 "nbformat": 4,
 "nbformat_minor": 2
}
